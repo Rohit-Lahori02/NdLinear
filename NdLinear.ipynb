{
  "cells": [
    {
      "cell_type": "code",
      "execution_count": 1,
      "metadata": {
        "colab": {
          "base_uri": "https://localhost:8080/"
        },
        "id": "XQlyMt7w6qPK",
        "outputId": "c05b62fd-f914-480a-aead-8ddc3c521e0d"
      },
      "outputs": [
        {
          "name": "stdout",
          "output_type": "stream",
          "text": [
            "Collecting ndlinear\n",
            "  Downloading ndlinear-1.0.0-py3-none-any.whl.metadata (6.0 kB)\n",
            "Requirement already satisfied: torch>=2.3.0 in /usr/local/lib/python3.11/dist-packages (from ndlinear) (2.6.0+cu124)\n",
            "Requirement already satisfied: numpy>=1.24.3 in /usr/local/lib/python3.11/dist-packages (from ndlinear) (2.0.2)\n",
            "Requirement already satisfied: filelock in /usr/local/lib/python3.11/dist-packages (from torch>=2.3.0->ndlinear) (3.18.0)\n",
            "Requirement already satisfied: typing-extensions>=4.10.0 in /usr/local/lib/python3.11/dist-packages (from torch>=2.3.0->ndlinear) (4.13.2)\n",
            "Requirement already satisfied: networkx in /usr/local/lib/python3.11/dist-packages (from torch>=2.3.0->ndlinear) (3.4.2)\n",
            "Requirement already satisfied: jinja2 in /usr/local/lib/python3.11/dist-packages (from torch>=2.3.0->ndlinear) (3.1.6)\n",
            "Requirement already satisfied: fsspec in /usr/local/lib/python3.11/dist-packages (from torch>=2.3.0->ndlinear) (2025.3.2)\n",
            "Collecting nvidia-cuda-nvrtc-cu12==12.4.127 (from torch>=2.3.0->ndlinear)\n",
            "  Downloading nvidia_cuda_nvrtc_cu12-12.4.127-py3-none-manylinux2014_x86_64.whl.metadata (1.5 kB)\n",
            "Collecting nvidia-cuda-runtime-cu12==12.4.127 (from torch>=2.3.0->ndlinear)\n",
            "  Downloading nvidia_cuda_runtime_cu12-12.4.127-py3-none-manylinux2014_x86_64.whl.metadata (1.5 kB)\n",
            "Collecting nvidia-cuda-cupti-cu12==12.4.127 (from torch>=2.3.0->ndlinear)\n",
            "  Downloading nvidia_cuda_cupti_cu12-12.4.127-py3-none-manylinux2014_x86_64.whl.metadata (1.6 kB)\n",
            "Collecting nvidia-cudnn-cu12==9.1.0.70 (from torch>=2.3.0->ndlinear)\n",
            "  Downloading nvidia_cudnn_cu12-9.1.0.70-py3-none-manylinux2014_x86_64.whl.metadata (1.6 kB)\n",
            "Collecting nvidia-cublas-cu12==12.4.5.8 (from torch>=2.3.0->ndlinear)\n",
            "  Downloading nvidia_cublas_cu12-12.4.5.8-py3-none-manylinux2014_x86_64.whl.metadata (1.5 kB)\n",
            "Collecting nvidia-cufft-cu12==11.2.1.3 (from torch>=2.3.0->ndlinear)\n",
            "  Downloading nvidia_cufft_cu12-11.2.1.3-py3-none-manylinux2014_x86_64.whl.metadata (1.5 kB)\n",
            "Collecting nvidia-curand-cu12==10.3.5.147 (from torch>=2.3.0->ndlinear)\n",
            "  Downloading nvidia_curand_cu12-10.3.5.147-py3-none-manylinux2014_x86_64.whl.metadata (1.5 kB)\n",
            "Collecting nvidia-cusolver-cu12==11.6.1.9 (from torch>=2.3.0->ndlinear)\n",
            "  Downloading nvidia_cusolver_cu12-11.6.1.9-py3-none-manylinux2014_x86_64.whl.metadata (1.6 kB)\n",
            "Collecting nvidia-cusparse-cu12==12.3.1.170 (from torch>=2.3.0->ndlinear)\n",
            "  Downloading nvidia_cusparse_cu12-12.3.1.170-py3-none-manylinux2014_x86_64.whl.metadata (1.6 kB)\n",
            "Requirement already satisfied: nvidia-cusparselt-cu12==0.6.2 in /usr/local/lib/python3.11/dist-packages (from torch>=2.3.0->ndlinear) (0.6.2)\n",
            "Requirement already satisfied: nvidia-nccl-cu12==2.21.5 in /usr/local/lib/python3.11/dist-packages (from torch>=2.3.0->ndlinear) (2.21.5)\n",
            "Requirement already satisfied: nvidia-nvtx-cu12==12.4.127 in /usr/local/lib/python3.11/dist-packages (from torch>=2.3.0->ndlinear) (12.4.127)\n",
            "Collecting nvidia-nvjitlink-cu12==12.4.127 (from torch>=2.3.0->ndlinear)\n",
            "  Downloading nvidia_nvjitlink_cu12-12.4.127-py3-none-manylinux2014_x86_64.whl.metadata (1.5 kB)\n",
            "Requirement already satisfied: triton==3.2.0 in /usr/local/lib/python3.11/dist-packages (from torch>=2.3.0->ndlinear) (3.2.0)\n",
            "Requirement already satisfied: sympy==1.13.1 in /usr/local/lib/python3.11/dist-packages (from torch>=2.3.0->ndlinear) (1.13.1)\n",
            "Requirement already satisfied: mpmath<1.4,>=1.1.0 in /usr/local/lib/python3.11/dist-packages (from sympy==1.13.1->torch>=2.3.0->ndlinear) (1.3.0)\n",
            "Requirement already satisfied: MarkupSafe>=2.0 in /usr/local/lib/python3.11/dist-packages (from jinja2->torch>=2.3.0->ndlinear) (3.0.2)\n",
            "Downloading ndlinear-1.0.0-py3-none-any.whl (9.0 kB)\n",
            "Downloading nvidia_cublas_cu12-12.4.5.8-py3-none-manylinux2014_x86_64.whl (363.4 MB)\n",
            "\u001b[2K   \u001b[90m━━━━━━━━━━━━━━━━━━━━━━━━━━━━━━━━━━━━━━━━\u001b[0m \u001b[32m363.4/363.4 MB\u001b[0m \u001b[31m3.9 MB/s\u001b[0m eta \u001b[36m0:00:00\u001b[0m\n",
            "\u001b[?25hDownloading nvidia_cuda_cupti_cu12-12.4.127-py3-none-manylinux2014_x86_64.whl (13.8 MB)\n",
            "\u001b[2K   \u001b[90m━━━━━━━━━━━━━━━━━━━━━━━━━━━━━━━━━━━━━━━━\u001b[0m \u001b[32m13.8/13.8 MB\u001b[0m \u001b[31m128.2 MB/s\u001b[0m eta \u001b[36m0:00:00\u001b[0m\n",
            "\u001b[?25hDownloading nvidia_cuda_nvrtc_cu12-12.4.127-py3-none-manylinux2014_x86_64.whl (24.6 MB)\n",
            "\u001b[2K   \u001b[90m━━━━━━━━━━━━━━━━━━━━━━━━━━━━━━━━━━━━━━━━\u001b[0m \u001b[32m24.6/24.6 MB\u001b[0m \u001b[31m96.4 MB/s\u001b[0m eta \u001b[36m0:00:00\u001b[0m\n",
            "\u001b[?25hDownloading nvidia_cuda_runtime_cu12-12.4.127-py3-none-manylinux2014_x86_64.whl (883 kB)\n",
            "\u001b[2K   \u001b[90m━━━━━━━━━━━━━━━━━━━━━━━━━━━━━━━━━━━━━━━━\u001b[0m \u001b[32m883.7/883.7 kB\u001b[0m \u001b[31m63.9 MB/s\u001b[0m eta \u001b[36m0:00:00\u001b[0m\n",
            "\u001b[?25hDownloading nvidia_cudnn_cu12-9.1.0.70-py3-none-manylinux2014_x86_64.whl (664.8 MB)\n",
            "\u001b[2K   \u001b[90m━━━━━━━━━━━━━━━━━━━━━━━━━━━━━━━━━━━━━━━━\u001b[0m \u001b[32m664.8/664.8 MB\u001b[0m \u001b[31m3.0 MB/s\u001b[0m eta \u001b[36m0:00:00\u001b[0m\n",
            "\u001b[?25hDownloading nvidia_cufft_cu12-11.2.1.3-py3-none-manylinux2014_x86_64.whl (211.5 MB)\n",
            "\u001b[2K   \u001b[90m━━━━━━━━━━━━━━━━━━━━━━━━━━━━━━━━━━━━━━━━\u001b[0m \u001b[32m211.5/211.5 MB\u001b[0m \u001b[31m5.5 MB/s\u001b[0m eta \u001b[36m0:00:00\u001b[0m\n",
            "\u001b[?25hDownloading nvidia_curand_cu12-10.3.5.147-py3-none-manylinux2014_x86_64.whl (56.3 MB)\n",
            "\u001b[2K   \u001b[90m━━━━━━━━━━━━━━━━━━━━━━━━━━━━━━━━━━━━━━━━\u001b[0m \u001b[32m56.3/56.3 MB\u001b[0m \u001b[31m13.4 MB/s\u001b[0m eta \u001b[36m0:00:00\u001b[0m\n",
            "\u001b[?25hDownloading nvidia_cusolver_cu12-11.6.1.9-py3-none-manylinux2014_x86_64.whl (127.9 MB)\n",
            "\u001b[2K   \u001b[90m━━━━━━━━━━━━━━━━━━━━━━━━━━━━━━━━━━━━━━━━\u001b[0m \u001b[32m127.9/127.9 MB\u001b[0m \u001b[31m7.4 MB/s\u001b[0m eta \u001b[36m0:00:00\u001b[0m\n",
            "\u001b[?25hDownloading nvidia_cusparse_cu12-12.3.1.170-py3-none-manylinux2014_x86_64.whl (207.5 MB)\n",
            "\u001b[2K   \u001b[90m━━━━━━━━━━━━━━━━━━━━━━━━━━━━━━━━━━━━━━━━\u001b[0m \u001b[32m207.5/207.5 MB\u001b[0m \u001b[31m6.5 MB/s\u001b[0m eta \u001b[36m0:00:00\u001b[0m\n",
            "\u001b[?25hDownloading nvidia_nvjitlink_cu12-12.4.127-py3-none-manylinux2014_x86_64.whl (21.1 MB)\n",
            "\u001b[2K   \u001b[90m━━━━━━━━━━━━━━━━━━━━━━━━━━━━━━━━━━━━━━━━\u001b[0m \u001b[32m21.1/21.1 MB\u001b[0m \u001b[31m105.8 MB/s\u001b[0m eta \u001b[36m0:00:00\u001b[0m\n",
            "\u001b[?25hInstalling collected packages: nvidia-nvjitlink-cu12, nvidia-curand-cu12, nvidia-cufft-cu12, nvidia-cuda-runtime-cu12, nvidia-cuda-nvrtc-cu12, nvidia-cuda-cupti-cu12, nvidia-cublas-cu12, nvidia-cusparse-cu12, nvidia-cudnn-cu12, nvidia-cusolver-cu12, ndlinear\n",
            "  Attempting uninstall: nvidia-nvjitlink-cu12\n",
            "    Found existing installation: nvidia-nvjitlink-cu12 12.5.82\n",
            "    Uninstalling nvidia-nvjitlink-cu12-12.5.82:\n",
            "      Successfully uninstalled nvidia-nvjitlink-cu12-12.5.82\n",
            "  Attempting uninstall: nvidia-curand-cu12\n",
            "    Found existing installation: nvidia-curand-cu12 10.3.6.82\n",
            "    Uninstalling nvidia-curand-cu12-10.3.6.82:\n",
            "      Successfully uninstalled nvidia-curand-cu12-10.3.6.82\n",
            "  Attempting uninstall: nvidia-cufft-cu12\n",
            "    Found existing installation: nvidia-cufft-cu12 11.2.3.61\n",
            "    Uninstalling nvidia-cufft-cu12-11.2.3.61:\n",
            "      Successfully uninstalled nvidia-cufft-cu12-11.2.3.61\n",
            "  Attempting uninstall: nvidia-cuda-runtime-cu12\n",
            "    Found existing installation: nvidia-cuda-runtime-cu12 12.5.82\n",
            "    Uninstalling nvidia-cuda-runtime-cu12-12.5.82:\n",
            "      Successfully uninstalled nvidia-cuda-runtime-cu12-12.5.82\n",
            "  Attempting uninstall: nvidia-cuda-nvrtc-cu12\n",
            "    Found existing installation: nvidia-cuda-nvrtc-cu12 12.5.82\n",
            "    Uninstalling nvidia-cuda-nvrtc-cu12-12.5.82:\n",
            "      Successfully uninstalled nvidia-cuda-nvrtc-cu12-12.5.82\n",
            "  Attempting uninstall: nvidia-cuda-cupti-cu12\n",
            "    Found existing installation: nvidia-cuda-cupti-cu12 12.5.82\n",
            "    Uninstalling nvidia-cuda-cupti-cu12-12.5.82:\n",
            "      Successfully uninstalled nvidia-cuda-cupti-cu12-12.5.82\n",
            "  Attempting uninstall: nvidia-cublas-cu12\n",
            "    Found existing installation: nvidia-cublas-cu12 12.5.3.2\n",
            "    Uninstalling nvidia-cublas-cu12-12.5.3.2:\n",
            "      Successfully uninstalled nvidia-cublas-cu12-12.5.3.2\n",
            "  Attempting uninstall: nvidia-cusparse-cu12\n",
            "    Found existing installation: nvidia-cusparse-cu12 12.5.1.3\n",
            "    Uninstalling nvidia-cusparse-cu12-12.5.1.3:\n",
            "      Successfully uninstalled nvidia-cusparse-cu12-12.5.1.3\n",
            "  Attempting uninstall: nvidia-cudnn-cu12\n",
            "    Found existing installation: nvidia-cudnn-cu12 9.3.0.75\n",
            "    Uninstalling nvidia-cudnn-cu12-9.3.0.75:\n",
            "      Successfully uninstalled nvidia-cudnn-cu12-9.3.0.75\n",
            "  Attempting uninstall: nvidia-cusolver-cu12\n",
            "    Found existing installation: nvidia-cusolver-cu12 11.6.3.83\n",
            "    Uninstalling nvidia-cusolver-cu12-11.6.3.83:\n",
            "      Successfully uninstalled nvidia-cusolver-cu12-11.6.3.83\n",
            "Successfully installed ndlinear-1.0.0 nvidia-cublas-cu12-12.4.5.8 nvidia-cuda-cupti-cu12-12.4.127 nvidia-cuda-nvrtc-cu12-12.4.127 nvidia-cuda-runtime-cu12-12.4.127 nvidia-cudnn-cu12-9.1.0.70 nvidia-cufft-cu12-11.2.1.3 nvidia-curand-cu12-10.3.5.147 nvidia-cusolver-cu12-11.6.1.9 nvidia-cusparse-cu12-12.3.1.170 nvidia-nvjitlink-cu12-12.4.127\n"
          ]
        }
      ],
      "source": [
        "!pip install ndlinear"
      ]
    },
    {
      "cell_type": "code",
      "execution_count": 2,
      "metadata": {
        "colab": {
          "base_uri": "https://localhost:8080/"
        },
        "id": "5mpPrCfX7Sw-",
        "outputId": "4b70c0ca-56b9-49d0-bcb3-f476ebec60a5"
      },
      "outputs": [
        {
          "name": "stdout",
          "output_type": "stream",
          "text": [
            "\u001b[?25l     \u001b[90m━━━━━━━━━━━━━━━━━━━━━━━━━━━━━━━━━━━━━━━━\u001b[0m \u001b[32m0.0/50.2 kB\u001b[0m \u001b[31m?\u001b[0m eta \u001b[36m-:--:--\u001b[0m\r\u001b[2K     \u001b[90m━━━━━━━━━━━━━━━━━━━━━━━━━━━━━━━━━━━━━━━━\u001b[0m \u001b[32m50.2/50.2 kB\u001b[0m \u001b[31m5.2 MB/s\u001b[0m eta \u001b[36m0:00:00\u001b[0m\n",
            "\u001b[?25h  Preparing metadata (setup.py) ... \u001b[?25l\u001b[?25hdone\n",
            "\u001b[2K     \u001b[90m━━━━━━━━━━━━━━━━━━━━━━━━━━━━━━━━━━━━━━━━\u001b[0m \u001b[32m42.2/42.2 kB\u001b[0m \u001b[31m4.3 MB/s\u001b[0m eta \u001b[36m0:00:00\u001b[0m\n",
            "\u001b[?25h  Preparing metadata (setup.py) ... \u001b[?25l\u001b[?25hdone\n",
            "  Building wheel for fvcore (setup.py) ... \u001b[?25l\u001b[?25hdone\n",
            "  Building wheel for iopath (setup.py) ... \u001b[?25l\u001b[?25hdone\n"
          ]
        }
      ],
      "source": [
        "pip install -q torchaudio einops fvcore torchinfo tqdm"
      ]
    },
    {
      "cell_type": "code",
      "execution_count": 3,
      "metadata": {
        "colab": {
          "base_uri": "https://localhost:8080/"
        },
        "id": "t7sGpAaZ7_RZ",
        "outputId": "698b4b5e-9880-45dc-ef1c-d62df11de799"
      },
      "outputs": [
        {
          "name": "stdout",
          "output_type": "stream",
          "text": [
            "device: cuda\n"
          ]
        }
      ],
      "source": [
        "import os, time, math, random, numpy as np\n",
        "import torch, torch.nn as nn, torch.nn.functional as F\n",
        "from torch.utils.data import DataLoader\n",
        "import torchaudio, torchaudio.transforms as T\n",
        "from fvcore.nn import FlopCountAnalysis, parameter_count_table\n",
        "from torchinfo import summary\n",
        "from ndlinear import NdLinear\n",
        "\n",
        "torch.manual_seed(42)\n",
        "device = torch.device('cuda' if torch.cuda.is_available() else 'cpu')\n",
        "print('device:', device)\n",
        "\n",
        "os.makedirs('./data', exist_ok=True)"
      ]
    },
    {
      "cell_type": "code",
      "execution_count": null,
      "metadata": {
        "id": "6YKeA6Pg8Gcd"
      },
      "outputs": [],
      "source": [
        "class SpeechCommandsDataset(torchaudio.datasets.SPEECHCOMMANDS):\n",
        "    def __init__(self, root, subset):\n",
        "        super().__init__(root, download=True)\n",
        "        def _load_list(fname):\n",
        "            p = os.path.join(self._path, fname)\n",
        "            with open(p) as f:\n",
        "                return [os.path.join(self._path, line.strip()) for line in f]\n",
        "        if subset == 'validation':\n",
        "            self._walker = _load_list('validation_list.txt')\n",
        "        elif subset == 'testing':\n",
        "            self._walker = _load_list('testing_list.txt')\n",
        "        elif subset == 'training':\n",
        "            excludes = set(_load_list('validation_list.txt') + _load_list('testing_list.txt'))\n",
        "            self._walker = [w for w in self._walker if w not in excludes]\n",
        "        else:\n",
        "            raise ValueError(subset)\n",
        "\n",
        "SAMPLE_RATE, N_MELS = 16_000, 40\n",
        "mel_spec = T.MelSpectrogram(sample_rate=SAMPLE_RATE,\n",
        "                            n_fft=640, hop_length=320, n_mels=N_MELS)\n",
        "\n",
        "def _pad(batch):\n",
        "    batch = torch.nn.utils.rnn.pad_sequence(batch, batch_first=True)\n",
        "    return batch.permute(0, 2, 1)               # (B, mel, time)\n",
        "\n",
        "class Collate:\n",
        "    def __call__(self, batch):\n",
        "        waves, labels = [], []\n",
        "        for wav, _, lbl, *_ in batch:\n",
        "            if wav.shape[0] > 1:                \n",
        "                wav = wav.mean(dim=0, keepdim=True)\n",
        "            spec = mel_spec(wav).squeeze(0)        \n",
        "            waves.append(spec.transpose(0, 1))     \n",
        "            labels.append(lbl)\n",
        "\n",
        "        waves = _pad(waves)                        \n",
        "        label_set = sorted(set(labels))\n",
        "        lmap = {l: i for i, l in enumerate(label_set)}\n",
        "        labels = torch.tensor([lmap[l] for l in labels])\n",
        "        return waves, labels, label_set\n"
      ]
    },
    {
      "cell_type": "code",
      "execution_count": null,
      "metadata": {
        "id": "d7Lm3-jK8J_i"
      },
      "outputs": [],
      "source": [
        "class DSCNN(nn.Module):\n",
        "    \"\"\"\n",
        "    Depthwise-separable CNN for keyword spotting.\n",
        "    Set use_nd=True to replace 1×1 conv & final FC with NdLinear.\n",
        "    \"\"\"\n",
        "    def __init__(self, num_classes, width_mult=1.0,\n",
        "                 use_nd=False, rank_ratio=0.5, channels=1):\n",
        "        super().__init__()\n",
        "        self.use_nd = use_nd\n",
        "        def dw(in_ch, stride=1):\n",
        "            return nn.Conv2d(in_ch, in_ch, 3, stride, 1, groups=in_ch, bias=False)\n",
        "        def pw(in_ch, out_ch):\n",
        "            return nn.Conv2d(in_ch, out_ch, 1, bias=False)\n",
        "\n",
        "        cfg = [64, 64, 128, 128, 256, 256]      # out channels\n",
        "        strides = [2, 1, 2, 1, 2, 1]\n",
        "        layers, in_ch = [], channels\n",
        "        for out_ch, s in zip(cfg, strides):\n",
        "            out_ch = int(out_ch * width_mult)\n",
        "            layers += [dw(in_ch, s)]\n",
        "            if use_nd and in_ch == out_ch:       \n",
        "                layers += [nn.Identity()]        \n",
        "            else:\n",
        "                layers += [pw(in_ch, out_ch)]\n",
        "            layers += [nn.ReLU(inplace=True)]\n",
        "            in_ch = out_ch\n",
        "        self.features = nn.Sequential(*layers)\n",
        "\n",
        "        if use_nd:\n",
        "            hidden = int(in_ch * rank_ratio)\n",
        "\n",
        "            \n",
        "            self.pool = nn.AdaptiveAvgPool2d((1, 1))\n",
        "\n",
        "            # ❷ NdLinear sees shape (C, 1) → (hidden, 1)\n",
        "            self.nd    = NdLinear((in_ch, 1), (hidden, 1))\n",
        "            self.relu  = nn.ReLU()\n",
        "            self.fc    = nn.Linear(hidden, num_classes)\n",
        "        else:\n",
        "            self.pool = nn.AdaptiveAvgPool2d((1, 1))\n",
        "            self.fc   = nn.Linear(in_ch, num_classes)\n",
        "\n",
        "    def forward(self, x):               \n",
        "        x = x.unsqueeze(1)              \n",
        "        x = self.features(x)            \n",
        "        x = self.pool(x).squeeze(-1)    \n",
        "\n",
        "        if self.use_nd:\n",
        "            x = self.nd(x)              # (B,hidden,1)\n",
        "            x = self.relu(x)\n",
        "            x = x.squeeze(-1)           # (B,hidden)\n",
        "\n",
        "        else:                           \n",
        "            x = x.squeeze(-1)           \n",
        "\n",
        "        return self.fc(x)\n"
      ]
    },
    {
      "cell_type": "code",
      "execution_count": null,
      "metadata": {
        "id": "bRDonk_q8Ndt"
      },
      "outputs": [],
      "source": [
        "def train_epoch(model, loader, optim, loss_fn):\n",
        "    model.train()\n",
        "    total, correct, loss_sum = 0, 0, 0.0\n",
        "    for xb, yb in loader:                  \n",
        "        xb, yb = xb.to(device), yb.to(device)\n",
        "        optim.zero_grad(set_to_none=True)\n",
        "        out = model(xb)\n",
        "        loss = loss_fn(out, yb)\n",
        "        loss.backward()\n",
        "        optim.step()\n",
        "        loss_sum += loss.item() * xb.size(0)\n",
        "        correct += (out.argmax(1) == yb).sum().item()\n",
        "        total += xb.size(0)\n",
        "    return loss_sum / total, correct / total\n",
        "\n",
        "@torch.no_grad()\n",
        "def eval_acc(model, loader):\n",
        "    model.eval()\n",
        "    total, correct = 0, 0\n",
        "    for xb, yb in loader:                  \n",
        "        xb, yb = xb.to(device), yb.to(device)\n",
        "        out = model(xb)\n",
        "        correct += (out.argmax(1) == yb).sum().item()\n",
        "        total += xb.size(0)\n",
        "    return correct / total\n"
      ]
    },
    {
      "cell_type": "code",
      "execution_count": null,
      "metadata": {
        "colab": {
          "base_uri": "https://localhost:8080/"
        },
        "id": "itXLA9VB8lxZ",
        "outputId": "4174ecd2-f409-4c7c-89f2-e93f7276bab5"
      },
      "outputs": [
        {
          "name": "stdout",
          "output_type": "stream",
          "text": [
            "Detected 35 classes: ['backward', 'bed', 'bird', 'cat', 'dog', 'down', 'eight', 'five'] ...\n"
          ]
        }
      ],
      "source": [
        "root = '/content/data'\n",
        "\n",
        "# ── 1.  build a GLOBAL label list  ────────────────────────────────────────────\n",
        "train_full = SpeechCommandsDataset(root, 'training')\n",
        "LABELS = sorted({sample[2] for sample in train_full})   \n",
        "label_to_idx = {lbl: i for i, lbl in enumerate(LABELS)}\n",
        "NUM_CLASSES = len(LABELS)\n",
        "print(\"Detected\", NUM_CLASSES, \"classes:\", LABELS[:8], \"...\")\n",
        "\n",
        "# ── 2.  collate that uses the global mapping  ────────────────────────────────\n",
        "class Collate:\n",
        "    def __call__(self, batch):\n",
        "        waves, ys = [], []\n",
        "        for wav, _, lbl, *_ in batch:\n",
        "            if wav.shape[0] > 1:                    \n",
        "                wav = wav.mean(dim=0, keepdim=True)\n",
        "            spec = mel_spec(wav).squeeze(0).transpose(0, 1)  \n",
        "            waves.append(spec)\n",
        "            ys.append(label_to_idx[lbl])            \n",
        "        waves = _pad(waves)                        \n",
        "        return waves, torch.tensor(ys)\n",
        "\n",
        "# ── 3.  data loaders  ────────────────────────────────────────────────────────\n",
        "def make_loader(subset, shuffle):\n",
        "    ds = SpeechCommandsDataset(root, subset)\n",
        "    return DataLoader(ds, batch_size=128, shuffle=shuffle,\n",
        "                      collate_fn=Collate(), num_workers=2, pin_memory=True)\n",
        "\n",
        "train_dl = make_loader('training',   True)\n",
        "val_dl   = make_loader('validation', False)\n",
        "test_dl  = make_loader('testing',    False)\n",
        "\n",
        "# ── 4.  instantiate models with the correct class count  ────────────────────\n",
        "baseline = DSCNN(NUM_CLASSES, use_nd=False).to(device)\n",
        "ndmodel  = DSCNN(NUM_CLASSES, use_nd=True, rank_ratio=0.5).to(device)\n"
      ]
    },
    {
      "cell_type": "code",
      "execution_count": 20,
      "metadata": {
        "colab": {
          "base_uri": "https://localhost:8080/"
        },
        "id": "wh-mBlSi9gFx",
        "outputId": "a2125379-3690-4c9c-f4ec-909697baaadb"
      },
      "outputs": [
        {
          "name": "stdout",
          "output_type": "stream",
          "text": [
            "baseline | epoch 1/3 | train_acc=0.640 | val_acc=0.661\n",
            "baseline | epoch 2/3 | train_acc=0.674 | val_acc=0.682\n",
            "baseline | epoch 3/3 | train_acc=0.697 | val_acc=0.690\n",
            "baseline | best_val_acc=0.690\n",
            "ndlinear | epoch 1/3 | train_acc=0.654 | val_acc=0.676\n",
            "ndlinear | epoch 2/3 | train_acc=0.692 | val_acc=0.693\n",
            "ndlinear | epoch 3/3 | train_acc=0.715 | val_acc=0.726\n",
            "ndlinear | best_val_acc=0.726\n",
            "→ Test accuracy baseline: 0.6873239436619718\n",
            "→ Test accuracy NdLinear: 0.7125851885506588\n"
          ]
        }
      ],
      "source": [
        "def run_experiment(model, name, epochs=3, lr=8e-4):\n",
        "    criterion = nn.CrossEntropyLoss()\n",
        "    optimizer = torch.optim.Adam(model.parameters(), lr=lr)\n",
        "    best = 0.0\n",
        "    for ep in range(1, epochs + 1):\n",
        "        tr_loss, tr_acc = train_epoch(model, train_dl, optimizer, criterion)\n",
        "        val_acc = eval_acc(model, val_dl)\n",
        "        best = max(best, val_acc)\n",
        "        print(f\"{name} | epoch {ep}/{epochs} \"\n",
        "              f\"| train_acc={tr_acc:.3f} | val_acc={val_acc:.3f}\")\n",
        "    print(f\"{name} | best_val_acc={best:.3f}\")\n",
        "    return best\n",
        "\n",
        "best_base = run_experiment(baseline, 'baseline')\n",
        "best_nd   = run_experiment(ndmodel,  'ndlinear')\n",
        "\n",
        "print(\"→ Test accuracy baseline:\", eval_acc(baseline, test_dl))\n",
        "print(\"→ Test accuracy NdLinear:\", eval_acc(ndmodel,  test_dl))\n"
      ]
    },
    {
      "cell_type": "code",
      "execution_count": null,
      "metadata": {
        "colab": {
          "base_uri": "https://localhost:8080/"
        },
        "id": "VWV1wgJWiJDA",
        "outputId": "4e3082f0-8fc5-4a88-bbf8-8d797f4b59c3"
      },
      "outputs": [
        {
          "name": "stderr",
          "output_type": "stream",
          "text": [
            "WARNING:fvcore.nn.jit_analysis:The following submodules of the model were never called during the trace of the graph. They may be unused, or they were accessed by direct calls to .forward() or via other python methods. In the latter case they will have zeros for statistics, though their statistics will still contribute to their parent calling module.\n",
            "nd.relu\n"
          ]
        },
        {
          "name": "stdout",
          "output_type": "stream",
          "text": [
            "=== baseline ===\n",
            "FLOPs: 1211.7 M\n",
            "| name                  | #elements or shape   |\n",
            "|:----------------------|:---------------------|\n",
            "| model                 | 0.1M                 |\n",
            "|  features             |  0.1M                |\n",
            "|   features.0          |   9                  |\n",
            "|    features.0.weight  |    (1, 1, 3, 3)      |\n",
            "|   features.1          |   64                 |\n",
            "|    features.1.weight  |    (64, 1, 1, 1)     |\n",
            "|   features.3          |   0.6K               |\n",
            "|    features.3.weight  |    (64, 1, 3, 3)     |\n",
            "|   features.4          |   4.1K               |\n",
            "|    features.4.weight  |    (64, 64, 1, 1)    |\n",
            "|   features.6          |   0.6K               |\n",
            "|    features.6.weight  |    (64, 1, 3, 3)     |\n",
            "|   features.7          |   8.2K               |\n",
            "|    features.7.weight  |    (128, 64, 1, 1)   |\n",
            "|   features.9          |   1.2K               |\n",
            "|    features.9.weight  |    (128, 1, 3, 3)    |\n",
            "|   features.10         |   16.4K              |\n",
            "|    features.10.weight |    (128, 128, 1, 1)  |\n",
            "|   features.12         |   1.2K               |\n",
            "|    features.12.weight |    (128, 1, 3, 3)    |\n",
            "|   features.13         |   32.8K              |\n",
            "|    features.13.weight |    (256, 128, 1, 1)  |\n",
            "|   features.15         |   2.3K               |\n",
            "|    features.15.weight |    (256, 1, 3, 3)    |\n",
            "|   features.16         |   65.5K              |\n",
            "|    features.16.weight |    (256, 256, 1, 1)  |\n",
            "|  fc                   |  9.0K                |\n",
            "|   fc.weight           |   (35, 256)          |\n",
            "|   fc.bias             |   (35,)              |\n",
            "=== ndlinear ===\n",
            "FLOPs: 376.5 M\n",
            "| name                  | #elements or shape   |\n",
            "|:----------------------|:---------------------|\n",
            "| model                 | 84.2K                |\n",
            "|  features             |  46.8K               |\n",
            "|   features.0          |   9                  |\n",
            "|    features.0.weight  |    (1, 1, 3, 3)      |\n",
            "|   features.1          |   64                 |\n",
            "|    features.1.weight  |    (64, 1, 1, 1)     |\n",
            "|   features.3          |   0.6K               |\n",
            "|    features.3.weight  |    (64, 1, 3, 3)     |\n",
            "|   features.6          |   0.6K               |\n",
            "|    features.6.weight  |    (64, 1, 3, 3)     |\n",
            "|   features.7          |   8.2K               |\n",
            "|    features.7.weight  |    (128, 64, 1, 1)   |\n",
            "|   features.9          |   1.2K               |\n",
            "|    features.9.weight  |    (128, 1, 3, 3)    |\n",
            "|   features.12         |   1.2K               |\n",
            "|    features.12.weight |    (128, 1, 3, 3)    |\n",
            "|   features.13         |   32.8K              |\n",
            "|    features.13.weight |    (256, 128, 1, 1)  |\n",
            "|   features.15         |   2.3K               |\n",
            "|    features.15.weight |    (256, 1, 3, 3)    |\n",
            "|  nd                   |  32.9K               |\n",
            "|   nd.align_layers     |   32.9K              |\n",
            "|    nd.align_layers.0  |    32.9K             |\n",
            "|    nd.align_layers.1  |    2                 |\n",
            "|  fc                   |  4.5K                |\n",
            "|   fc.weight           |   (35, 128)          |\n",
            "|   fc.bias             |   (35,)              |\n"
          ]
        }
      ],
      "source": [
        "\n",
        "sample, _ = next(iter(train_dl))    \n",
        "sample = sample.to(device)\n",
        "\n",
        "for mdl, name in ((baseline, 'baseline'), (ndmodel, 'ndlinear')):\n",
        "    mdl.eval()                     \n",
        "    flops = FlopCountAnalysis(mdl, sample)\n",
        "    print(f\"=== {name} ===\")\n",
        "    print(f\"FLOPs: {flops.total() / 1e6:.1f} M\")\n",
        "    print(parameter_count_table(mdl))\n",
        "\n"
      ]
    },
    {
      "cell_type": "code",
      "execution_count": null,
      "metadata": {
        "colab": {
          "base_uri": "https://localhost:8080/",
          "height": 1000
        },
        "id": "iM25pSqMlcdl",
        "outputId": "e9f72a58-270b-46d6-fe94-18812858c0d0"
      },
      "outputs": [
        {
          "data": {
            "image/png": "[encoded data removed]",
            "text/plain": [
              "<Figure size 700x400 with 1 Axes>"
            ]
          },
          "metadata": {},
          "output_type": "display_data"
        },
        {
          "data": {
            "image/png": "[encoded data removed]",
            "text/plain": [
              "<Figure size 500x400 with 1 Axes>"
            ]
          },
          "metadata": {},
          "output_type": "display_data"
        },
        {
          "data": {
            "image/png": "[encoded data removed]",
            "text/plain": [
              "<Figure size 500x400 with 1 Axes>"
            ]
          },
          "metadata": {},
          "output_type": "display_data"
        }
      ],
      "source": [
        "# ── Plot baseline vs NdLinear results ─────────────────────────────────────────\n",
        "import matplotlib.pyplot as plt\n",
        "import numpy as np\n",
        "\n",
        "# ── 1) Validation-accuracy curves ─────────────────────────────────────────────\n",
        "epochs           = [1, 2, 3]                     \n",
        "val_acc_baseline = [0.661, 0.682, 0.690]         # baseline val-acc per epoch\n",
        "val_acc_nd       = [0.676, 0.693, 0.726]         # NdLinear val-acc per epoch\n",
        "\n",
        "plt.figure(figsize=(7,4))\n",
        "plt.plot(epochs, val_acc_baseline, marker='o', label='Baseline')\n",
        "plt.plot(epochs, val_acc_nd,       marker='o', label='NdLinear (rank 0.5)')\n",
        "plt.title('Validation Accuracy vs. Epoch')\n",
        "plt.xlabel('Epoch');  plt.ylabel('Accuracy');  plt.ylim(0.6, 0.75)\n",
        "plt.grid(True, linestyle='--', linewidth=0.5);  plt.legend()\n",
        "plt.show()\n",
        "\n",
        "# ── 2) Parameter count bar plot ───────────────────────────────────────────────\n",
        "models  = ['Baseline', 'NdLinear']\n",
        "paramsK = [141.8, 84.2]            \n",
        "\n",
        "plt.figure(figsize=(5,4))\n",
        "plt.bar(models, paramsK)\n",
        "plt.title('Trainable Parameters');  plt.ylabel('Parameters (K)')\n",
        "for x,y in zip(models, paramsK):\n",
        "    plt.text(x, y+2, f'{y:.0f} K', ha='center')\n",
        "plt.show()\n",
        "\n",
        "# ── 3) FLOPs per inference bar plot ───────────────────────────────────────────\n",
        "flopsM = [1211.7, 376.5]           # numbers in **millions** of FLOPs\n",
        "\n",
        "plt.figure(figsize=(5,4))\n",
        "plt.bar(models, flopsM)\n",
        "plt.title('FLOPs per Forward Pass');  plt.ylabel('FLOPs (M)')\n",
        "for x,y in zip(models, flopsM):\n",
        "    plt.text(x, y+20, f'{y:.0f} M', ha='center')\n",
        "plt.show()\n"
      ]
    }
  ],
  "metadata": {
    "accelerator": "GPU",
    "colab": {
      "gpuType": "T4",
      "provenance": []
    },
    "kernelspec": {
      "display_name": "Python 3",
      "name": "python3"
    },
    "language_info": {
      "name": "python"
    }
  },
  "nbformat": 4,
  "nbformat_minor": 0
}
